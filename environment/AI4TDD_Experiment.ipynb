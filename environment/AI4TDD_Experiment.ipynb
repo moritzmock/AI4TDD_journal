{
  "nbformat": 4,
  "nbformat_minor": 0,
  "metadata": {
    "colab": {
      "provenance": []
    },
    "kernelspec": {
      "name": "python3",
      "display_name": "Python 3"
    },
    "language_info": {
      "name": "python"
    }
  },
  "cells": [
    {
      "cell_type": "markdown",
      "source": [
        "# AI4TDD Experiment\n",
        "\n",
        "\n",
        "Thank you for participating in this experiment!\n",
        "\n",
        "Please insert the participant_id that was passed to you. If an OpenAI api key was also given to you, please insert it below.\n",
        "\n",
        "Then, run the cell.\n"
      ],
      "metadata": {
        "id": "1vtvwjNT21s0"
      }
    },
    {
      "cell_type": "code",
      "source": [
        "participant_id = None # @param {type:\"integer\"}\n",
        "openai_api_key = \"\" # @param {type:\"string\"}\n",
        "\n",
        "import os\n",
        "\n",
        "os.environ[\"PARTICIPANT_ID\"] = str(participant_id)\n",
        "os.environ[\"OPEN_AI_KEY\"] = openai_api_key"
      ],
      "metadata": {
        "id": "SwaZq3z4LetR"
      },
      "execution_count": null,
      "outputs": []
    },
    {
      "cell_type": "markdown",
      "source": [
        "Now, please run the following cell."
      ],
      "metadata": {
        "id": "mXqWLG2MLlG1"
      }
    },
    {
      "cell_type": "code",
      "execution_count": null,
      "metadata": {
        "id": "MkAAriW_282O"
      },
      "outputs": [],
      "source": [
        "!pip install openai\n",
        "\n",
        "import subprocess\n",
        "\n",
        "subprocess.run([\"rm\", \"-r\", \"sample_data\"])\n",
        "subprocess.run([\"rm\", \"-r\", \"ai4tdd-exp-master\"])\n",
        "subprocess.run([\"rm\", \"master.zip\"])\n",
        "\n",
        "\n",
        "!wget <online source>/ai4tdd-exp.zip\n",
        "# Or copy it from the local folder",
        "\n",
        "!unzip /content/master.zip\n",
        "\n",
        "subprocess.run([\"rm\", \"master.zip\"])\n",
        "subprocess.run([\"mv\", \"ai4tdd-exp-master/experiment.py\", \".\"])"
      ]
    },
    {
      "cell_type": "markdown",
      "source": [
        "Now, you can perform the task inside the file experiment.py. For each iteration, please run the cell below (you can run it multiple times)."
      ],
      "metadata": {
        "id": "yjexAURqLtUE"
      }
    },
    {
      "cell_type": "code",
      "source": [
        "# Run a simple command and wait for it to complete\n",
        "result = subprocess.run([\"python\", \"ai4tdd-exp-master/runner.py\", \"--file\", \"experiment.py\"], stdout=subprocess.PIPE, stderr=subprocess.PIPE, text=True)\n",
        "\n",
        "# Print the command output\n",
        "print(result.stdout)\n",
        "\n",
        "# Print the command output\n",
        "print(result.stderr)"
      ],
      "metadata": {
        "id": "K_uhKH9c6Kjw"
      },
      "execution_count": null,
      "outputs": []
    },
    {
      "cell_type": "markdown",
      "source": [
        "Once you completed the task, please run the following cell, download the zip and upload it in the form sent you."
      ],
      "metadata": {
        "id": "7Sff9k7nL4o9"
      }
    },
    {
      "cell_type": "code",
      "source": [
        "!zip -r /content/file.zip /content/\n",
        "from google.colab import files\n",
        "files.download(\"/content/file.zip\")"
      ],
      "metadata": {
        "id": "TZ-4E2OUHAZF"
      },
      "execution_count": null,
      "outputs": []
    }
  ]
}